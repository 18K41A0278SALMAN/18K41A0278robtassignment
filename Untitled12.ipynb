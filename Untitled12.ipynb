{
  "nbformat": 4,
  "nbformat_minor": 0,
  "metadata": {
    "colab": {
      "name": "Untitled12.ipynb",
      "provenance": [],
      "collapsed_sections": [],
      "authorship_tag": "ABX9TyNDpf7klVQU3QJzlXDVK08L",
      "include_colab_link": true
    },
    "kernelspec": {
      "name": "python3",
      "display_name": "Python 3"
    }
  },
  "cells": [
    {
      "cell_type": "markdown",
      "metadata": {
        "id": "view-in-github",
        "colab_type": "text"
      },
      "source": [
        "<a href=\"https://colab.research.google.com/github/18K41A0278SALMAN/18K41A0278robtassignment/blob/main/Untitled12.ipynb\" target=\"_parent\"><img src=\"https://colab.research.google.com/assets/colab-badge.svg\" alt=\"Open In Colab\"/></a>"
      ]
    },
    {
      "cell_type": "markdown",
      "metadata": {
        "id": "klBh26EIDgbw"
      },
      "source": [
        "path covered by robot to reach table"
      ]
    },
    {
      "cell_type": "code",
      "metadata": {
        "colab": {
          "base_uri": "https://localhost:8080/"
        },
        "id": "qqJ7UZDW0vvv",
        "outputId": "d88abcaa-bfce-4b89-f886-35c1653770b4"
      },
      "source": [
        "a=int(input('enter  number of rows='))\n",
        "b=int(input('enter number of colomns='))\n",
        "rest=[[0 for i in range(0,b)]for j in range (0,a)]\n",
        "table=tuple(map(int,input('\\nenter cordinates x and y:').split(\",\")))\n",
        "if(table[0]>=b or table[1]>=a):\n",
        "  print(\"location is not correct\")\n",
        "else:\n",
        "  x=0\n",
        "  y=0\n",
        "  t0=table[0]\n",
        "  t1=table[1]\n",
        "  c=1\n",
        "  l=0\n",
        "  r=0\n",
        "  u=0\n",
        "  d=0\n",
        "  if (t0==0 and t1==0):\n",
        "    print(\"required steps=0\")\n",
        "  else:\n",
        "    y+=1\n",
        "    print(\"left\",end=\"-->\")\n",
        "    d=1\n",
        "    temp1=None\n",
        "    temp2=None\n",
        "    while(True):\n",
        "      temp1=x-t0\n",
        "      temp2=y-t1\n",
        "      if (d==1):\n",
        "        if (temp1<=0):\n",
        "          x+=1\n",
        "          r=1\n",
        "          print(\"left\",end=\"-->\")\n",
        "          d=0\n",
        "        else:\n",
        "          x-=1\n",
        "          l=1\n",
        "          print(\"right\",end=\"-->\")\n",
        "          d=0\n",
        "      elif (u==1):\n",
        "        if (temp2<0):\n",
        "          i=1\n",
        "          u=0\n",
        "          print(\"left\",end=\"-->\")\n",
        "          x-=1\n",
        "        else:\n",
        "           r=1\n",
        "           u=0\n",
        "           print(\"right\",end=\"-->\")\n",
        "           x+=1\n",
        "          \n",
        "      elif (l==1):\n",
        "          if (temp2<0):\n",
        "            d=1\n",
        "            y+=0\n",
        "            print(\"left\",end=\"-->\")\n",
        "          else:\n",
        "            u=1\n",
        "            y-=1\n",
        "            print(\"right\",end=\"-->\")\n",
        "            l=0\n",
        "      else:\n",
        "        if (temp2>0):\n",
        "           u=1\n",
        "           y-=1\n",
        "           print(\"right\",end=\"-->\")\n",
        "           r=0\n",
        "          \n",
        "        else:\n",
        "          d=1\n",
        "          y+=1\n",
        "          print(\"left\",end='-->')\n",
        "          r=0\n",
        "      c+=1\n",
        "      if (x==t0 and y==t1):\n",
        "           print(\"reached\")\n",
        "           print(\"reached\",c,\"steps\")\n",
        "           break       \n",
        "\n",
        "\n",
        "      \n",
        "\n",
        "\n",
        "         \n",
        "\n",
        "    \n",
        "\n",
        "      \n",
        "\n",
        "\n",
        "\n",
        "          \n",
        "\n"
      ],
      "execution_count": 12,
      "outputs": [
        {
          "output_type": "stream",
          "text": [
            "enter  number of rows=5\n",
            "enter number of colomns=6\n",
            "\n",
            "enter cordinates x and y:3,4\n",
            "left-->left-->left-->left-->left-->left-->left-->reached\n",
            "reached 7 steps\n"
          ],
          "name": "stdout"
        }
      ]
    },
    {
      "cell_type": "code",
      "metadata": {
        "id": "IObZfikZ-nr3"
      },
      "source": [
        ""
      ],
      "execution_count": null,
      "outputs": []
    }
  ]
}